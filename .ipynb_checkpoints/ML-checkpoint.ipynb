{
 "cells": [
  {
   "cell_type": "code",
   "execution_count": 11,
   "id": "ffdad1a0-fa34-4da5-9654-f8c77338d756",
   "metadata": {},
   "outputs": [],
   "source": [
    "import pandas as pd\n",
    "import numpy as np"
   ]
  },
  {
   "cell_type": "code",
   "execution_count": 13,
   "id": "4131f77e-cd2d-4b25-a096-6b930264485e",
   "metadata": {},
   "outputs": [
    {
     "data": {
      "text/plain": [
       "0        1\n",
       "1        2\n",
       "2        3\n",
       "3    Anita\n",
       "4        0\n",
       "5      NaN\n",
       "6       -1\n",
       "dtype: object"
      ]
     },
     "execution_count": 13,
     "metadata": {},
     "output_type": "execute_result"
    }
   ],
   "source": [
    "pd.Series([1, 2, 3, 'Anita', 0, np.nan, -1])"
   ]
  },
  {
   "cell_type": "code",
   "execution_count": 17,
   "id": "1256b9d3-c9f5-4839-ad8a-bf4e38cbe89e",
   "metadata": {},
   "outputs": [
    {
     "data": {
      "text/plain": [
       "DatetimeIndex(['2024-01-01', '2024-01-02', '2024-01-03', '2024-01-04',\n",
       "               '2024-01-05', '2024-01-06'],\n",
       "              dtype='datetime64[ns]', freq='D')"
      ]
     },
     "execution_count": 17,
     "metadata": {},
     "output_type": "execute_result"
    }
   ],
   "source": [
    "dates = pd.date_range(\"20240101\", periods=6)\n",
    "dates"
   ]
  },
  {
   "cell_type": "code",
   "execution_count": 44,
   "id": "f5169865-2cc1-432f-8599-a1c02178a506",
   "metadata": {},
   "outputs": [
    {
     "data": {
      "text/html": [
       "<div>\n",
       "<style scoped>\n",
       "    .dataframe tbody tr th:only-of-type {\n",
       "        vertical-align: middle;\n",
       "    }\n",
       "\n",
       "    .dataframe tbody tr th {\n",
       "        vertical-align: top;\n",
       "    }\n",
       "\n",
       "    .dataframe thead th {\n",
       "        text-align: right;\n",
       "    }\n",
       "</style>\n",
       "<table border=\"1\" class=\"dataframe\">\n",
       "  <thead>\n",
       "    <tr style=\"text-align: right;\">\n",
       "      <th></th>\n",
       "      <th>A</th>\n",
       "      <th>B</th>\n",
       "      <th>C</th>\n",
       "      <th>D</th>\n",
       "    </tr>\n",
       "  </thead>\n",
       "  <tbody>\n",
       "    <tr>\n",
       "      <th>2024-01-01</th>\n",
       "      <td>0.993989</td>\n",
       "      <td>0.992015</td>\n",
       "      <td>2.515740</td>\n",
       "      <td>-0.196557</td>\n",
       "    </tr>\n",
       "    <tr>\n",
       "      <th>2024-01-02</th>\n",
       "      <td>-1.290618</td>\n",
       "      <td>-0.939373</td>\n",
       "      <td>-0.689439</td>\n",
       "      <td>0.100151</td>\n",
       "    </tr>\n",
       "    <tr>\n",
       "      <th>2024-01-03</th>\n",
       "      <td>1.210854</td>\n",
       "      <td>-0.997629</td>\n",
       "      <td>1.080336</td>\n",
       "      <td>1.006599</td>\n",
       "    </tr>\n",
       "    <tr>\n",
       "      <th>2024-01-04</th>\n",
       "      <td>-0.195096</td>\n",
       "      <td>0.454340</td>\n",
       "      <td>0.769530</td>\n",
       "      <td>-0.407291</td>\n",
       "    </tr>\n",
       "    <tr>\n",
       "      <th>2024-01-05</th>\n",
       "      <td>-1.098404</td>\n",
       "      <td>-0.604402</td>\n",
       "      <td>-0.328814</td>\n",
       "      <td>0.273142</td>\n",
       "    </tr>\n",
       "    <tr>\n",
       "      <th>2024-01-06</th>\n",
       "      <td>-0.888143</td>\n",
       "      <td>-0.566169</td>\n",
       "      <td>-1.351918</td>\n",
       "      <td>-0.663023</td>\n",
       "    </tr>\n",
       "  </tbody>\n",
       "</table>\n",
       "</div>"
      ],
      "text/plain": [
       "                   A         B         C         D\n",
       "2024-01-01  0.993989  0.992015  2.515740 -0.196557\n",
       "2024-01-02 -1.290618 -0.939373 -0.689439  0.100151\n",
       "2024-01-03  1.210854 -0.997629  1.080336  1.006599\n",
       "2024-01-04 -0.195096  0.454340  0.769530 -0.407291\n",
       "2024-01-05 -1.098404 -0.604402 -0.328814  0.273142\n",
       "2024-01-06 -0.888143 -0.566169 -1.351918 -0.663023"
      ]
     },
     "execution_count": 44,
     "metadata": {},
     "output_type": "execute_result"
    }
   ],
   "source": [
    "df = pd.DataFrame(np.random.randn(6, 4), index=dates, columns=[\"A\", \"B\", \"C\", \"D\"])\n",
    "df"
   ]
  },
  {
   "cell_type": "code",
   "execution_count": 25,
   "id": "4c886c56-7554-4a30-b123-c7368039cff5",
   "metadata": {},
   "outputs": [
    {
     "data": {
      "text/html": [
       "<div>\n",
       "<style scoped>\n",
       "    .dataframe tbody tr th:only-of-type {\n",
       "        vertical-align: middle;\n",
       "    }\n",
       "\n",
       "    .dataframe tbody tr th {\n",
       "        vertical-align: top;\n",
       "    }\n",
       "\n",
       "    .dataframe thead th {\n",
       "        text-align: right;\n",
       "    }\n",
       "</style>\n",
       "<table border=\"1\" class=\"dataframe\">\n",
       "  <thead>\n",
       "    <tr style=\"text-align: right;\">\n",
       "      <th></th>\n",
       "      <th>A</th>\n",
       "      <th>B</th>\n",
       "      <th>C</th>\n",
       "      <th>D</th>\n",
       "    </tr>\n",
       "  </thead>\n",
       "  <tbody>\n",
       "    <tr>\n",
       "      <th>count</th>\n",
       "      <td>6.000000</td>\n",
       "      <td>6.000000</td>\n",
       "      <td>6.000000</td>\n",
       "      <td>6.000000</td>\n",
       "    </tr>\n",
       "    <tr>\n",
       "      <th>mean</th>\n",
       "      <td>-0.082755</td>\n",
       "      <td>0.254877</td>\n",
       "      <td>0.300552</td>\n",
       "      <td>-0.133097</td>\n",
       "    </tr>\n",
       "    <tr>\n",
       "      <th>std</th>\n",
       "      <td>1.667945</td>\n",
       "      <td>0.872697</td>\n",
       "      <td>0.598455</td>\n",
       "      <td>1.043782</td>\n",
       "    </tr>\n",
       "    <tr>\n",
       "      <th>min</th>\n",
       "      <td>-2.983422</td>\n",
       "      <td>-0.897454</td>\n",
       "      <td>-0.489519</td>\n",
       "      <td>-1.167400</td>\n",
       "    </tr>\n",
       "    <tr>\n",
       "      <th>25%</th>\n",
       "      <td>-0.402065</td>\n",
       "      <td>-0.422272</td>\n",
       "      <td>-0.093189</td>\n",
       "      <td>-0.978981</td>\n",
       "    </tr>\n",
       "    <tr>\n",
       "      <th>50%</th>\n",
       "      <td>-0.035133</td>\n",
       "      <td>0.607511</td>\n",
       "      <td>0.291160</td>\n",
       "      <td>-0.191685</td>\n",
       "    </tr>\n",
       "    <tr>\n",
       "      <th>75%</th>\n",
       "      <td>0.933191</td>\n",
       "      <td>0.713623</td>\n",
       "      <td>0.707404</td>\n",
       "      <td>0.248769</td>\n",
       "    </tr>\n",
       "    <tr>\n",
       "      <th>max</th>\n",
       "      <td>1.825570</td>\n",
       "      <td>1.228235</td>\n",
       "      <td>1.085663</td>\n",
       "      <td>1.598013</td>\n",
       "    </tr>\n",
       "  </tbody>\n",
       "</table>\n",
       "</div>"
      ],
      "text/plain": [
       "              A         B         C         D\n",
       "count  6.000000  6.000000  6.000000  6.000000\n",
       "mean  -0.082755  0.254877  0.300552 -0.133097\n",
       "std    1.667945  0.872697  0.598455  1.043782\n",
       "min   -2.983422 -0.897454 -0.489519 -1.167400\n",
       "25%   -0.402065 -0.422272 -0.093189 -0.978981\n",
       "50%   -0.035133  0.607511  0.291160 -0.191685\n",
       "75%    0.933191  0.713623  0.707404  0.248769\n",
       "max    1.825570  1.228235  1.085663  1.598013"
      ]
     },
     "execution_count": 25,
     "metadata": {},
     "output_type": "execute_result"
    }
   ],
   "source": [
    "df.describe()"
   ]
  },
  {
   "cell_type": "code",
   "execution_count": 27,
   "id": "723858b3-f981-4b9d-9439-cb5ead3fa85a",
   "metadata": {},
   "outputs": [
    {
     "data": {
      "text/html": [
       "<div>\n",
       "<style scoped>\n",
       "    .dataframe tbody tr th:only-of-type {\n",
       "        vertical-align: middle;\n",
       "    }\n",
       "\n",
       "    .dataframe tbody tr th {\n",
       "        vertical-align: top;\n",
       "    }\n",
       "\n",
       "    .dataframe thead th {\n",
       "        text-align: right;\n",
       "    }\n",
       "</style>\n",
       "<table border=\"1\" class=\"dataframe\">\n",
       "  <thead>\n",
       "    <tr style=\"text-align: right;\">\n",
       "      <th></th>\n",
       "      <th>A</th>\n",
       "      <th>B</th>\n",
       "      <th>C</th>\n",
       "      <th>D</th>\n",
       "    </tr>\n",
       "  </thead>\n",
       "  <tbody>\n",
       "    <tr>\n",
       "      <th>2024-01-01</th>\n",
       "      <td>1.825570</td>\n",
       "      <td>-0.765076</td>\n",
       "      <td>0.259923</td>\n",
       "      <td>0.316288</td>\n",
       "    </tr>\n",
       "    <tr>\n",
       "      <th>2024-01-05</th>\n",
       "      <td>0.133840</td>\n",
       "      <td>-0.897454</td>\n",
       "      <td>-0.489519</td>\n",
       "      <td>-1.167400</td>\n",
       "    </tr>\n",
       "    <tr>\n",
       "      <th>2024-01-06</th>\n",
       "      <td>1.199641</td>\n",
       "      <td>1.228235</td>\n",
       "      <td>0.322397</td>\n",
       "      <td>0.046212</td>\n",
       "    </tr>\n",
       "  </tbody>\n",
       "</table>\n",
       "</div>"
      ],
      "text/plain": [
       "                   A         B         C         D\n",
       "2024-01-01  1.825570 -0.765076  0.259923  0.316288\n",
       "2024-01-05  0.133840 -0.897454 -0.489519 -1.167400\n",
       "2024-01-06  1.199641  1.228235  0.322397  0.046212"
      ]
     },
     "execution_count": 27,
     "metadata": {},
     "output_type": "execute_result"
    }
   ],
   "source": [
    "df[df[\"A\"]>0]"
   ]
  },
  {
   "cell_type": "markdown",
   "id": "3588e5f2-9a1d-4d32-a15e-80a777783781",
   "metadata": {},
   "source": [
    "## Read and Write opera"
   ]
  },
  {
   "cell_type": "code",
   "execution_count": 46,
   "id": "2a9c37d2-1c35-4d13-8884-a4d3e303a7dc",
   "metadata": {
    "scrolled": true
   },
   "outputs": [],
   "source": [
    "df.to_csv(\"/tmp/mycsv.csv\", index=False)"
   ]
  },
  {
   "cell_type": "code",
   "execution_count": 56,
   "id": "90d9a217-05d9-4f90-a5c6-8f3228aaa342",
   "metadata": {},
   "outputs": [],
   "source": [
    "df.to_excel(\"/tmp/mycsv.xlsx\", index=False)\n"
   ]
  },
  {
   "cell_type": "code",
   "execution_count": null,
   "id": "0c767a68-c298-49e4-99c3-36958adb06b7",
   "metadata": {},
   "outputs": [],
   "source": []
  }
 ],
 "metadata": {
  "kernelspec": {
   "display_name": "Python 3 (ipykernel)",
   "language": "python",
   "name": "python3"
  },
  "language_info": {
   "codemirror_mode": {
    "name": "ipython",
    "version": 3
   },
   "file_extension": ".py",
   "mimetype": "text/x-python",
   "name": "python",
   "nbconvert_exporter": "python",
   "pygments_lexer": "ipython3",
   "version": "3.12.4"
  }
 },
 "nbformat": 4,
 "nbformat_minor": 5
}
